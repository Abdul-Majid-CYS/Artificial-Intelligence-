{
 "cells": [
  {
   "cell_type": "code",
   "execution_count": 1,
   "id": "6597ba6c",
   "metadata": {},
   "outputs": [
    {
     "name": "stdout",
     "output_type": "stream",
     "text": [
      "Number of strings: 4\n"
     ]
    }
   ],
   "source": [
    "words = ['abc', 'xyz', 'aba', '1221', 'xyzzyx', 'aa', '122']\n",
    "count = 0\n",
    "for word in words:\n",
    "    if len(word) >= 2 and word[0] == word[-1]:\n",
    "        count += 1\n",
    "print(\"Number of strings:\", count)\n"
   ]
  },
  {
   "cell_type": "code",
   "execution_count": 4,
   "id": "2f43a5e1",
   "metadata": {},
   "outputs": [
    {
     "name": "stdout",
     "output_type": "stream",
     "text": [
      "Sum is: 15\n",
      "Product is: 96\n"
     ]
    }
   ],
   "source": [
    "numbers = (1, 2, 4, 2, 6)\n",
    "sum_numbers = sum(numbers)\n",
    "product = 1\n",
    "for num in numbers:\n",
    "    product *= num\n",
    "print(\"Sum is:\", sum_numbers)\n",
    "print(\"Product is:\", product)\n"
   ]
  },
  {
   "cell_type": "code",
   "execution_count": 6,
   "id": "535d232c",
   "metadata": {},
   "outputs": [
    {
     "name": "stdout",
     "output_type": "stream",
     "text": [
      "The largest number is: 6\n"
     ]
    }
   ],
   "source": [
    "numbers = [1, 2, 4, 2, 6]\n",
    "largest = max(numbers)\n",
    "print(\"The largest number is:\", largest)\n"
   ]
  },
  {
   "cell_type": "code",
   "execution_count": 7,
   "id": "09384543",
   "metadata": {},
   "outputs": [
    {
     "name": "stdout",
     "output_type": "stream",
     "text": [
      "Result = [('',), ('a', 'b'), ('a', 'b', 'c'), 'd']\n"
     ]
    }
   ],
   "source": [
    "L = [(), (), ('',), ('a', 'b'), (), ('a', 'b', 'c'), (), ('d')]\n",
    "new_list = []\n",
    "for item in L:\n",
    "    if item != ():\n",
    "        new_list.append(item)\n",
    "print(\"Result =\", new_list)\n"
   ]
  },
  {
   "cell_type": "code",
   "execution_count": 10,
   "id": "4d4983d8",
   "metadata": {},
   "outputs": [
    {
     "name": "stdout",
     "output_type": "stream",
     "text": [
      "{'1': 1, '2': 4, '3': 9, '4': 16, '5': 25}\n"
     ]
    }
   ],
   "source": [
    "n = int(input(\"Enter a number: \"))\n",
    "d = {}\n",
    "for x in range(1, n + 1):\n",
    "    d[str(x)] = x * x\n",
    "print(d)\n"
   ]
  },
  {
   "cell_type": "code",
   "execution_count": 11,
   "id": "1ca7a8e0",
   "metadata": {},
   "outputs": [
    {
     "name": "stdout",
     "output_type": "stream",
     "text": [
      "Six Seven Seven "
     ]
    }
   ],
   "source": [
    "num_dict = {\n",
    "    '0': 'Zero',\n",
    "    '1': 'One',\n",
    "    '2': 'Two',\n",
    "    '3': 'Three',\n",
    "    '4': 'Four',\n",
    "    '5': 'Five',\n",
    "    '6': 'Six',\n",
    "    '7': 'Seven',\n",
    "    '8': 'Eight',\n",
    "    '9': 'Nine'\n",
    "}\n",
    "\n",
    "number = input(\"Enter a number: \")\n",
    "for digit in number:\n",
    "    print(num_dict[digit], end=' ')\n"
   ]
  }
 ],
 "metadata": {
  "kernelspec": {
   "display_name": "Python 3",
   "language": "python",
   "name": "python3"
  },
  "language_info": {
   "codemirror_mode": {
    "name": "ipython",
    "version": 3
   },
   "file_extension": ".py",
   "mimetype": "text/x-python",
   "name": "python",
   "nbconvert_exporter": "python",
   "pygments_lexer": "ipython3",
   "version": "3.11.4"
  }
 },
 "nbformat": 4,
 "nbformat_minor": 5
}
