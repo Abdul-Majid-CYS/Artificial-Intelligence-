{
 "cells": [
  {
   "cell_type": "code",
   "execution_count": 3,
   "id": "3d7851ce",
   "metadata": {},
   "outputs": [
    {
     "name": "stdout",
     "output_type": "stream",
     "text": [
      "Original flattened array:\n",
      "[[0 1]\n",
      " [2 3]]\n",
      "Maximum value of the above flattened array: 3\n",
      "Minimum value of the above flattened array: 0\n"
     ]
    }
   ],
   "source": [
    "import numpy as np\n",
    "\n",
    "arr = np.array([[0, 1], [2, 3]])\n",
    "print(\"Original flattened array:\")\n",
    "print(arr)\n",
    "flat_arr = arr.flatten()\n",
    "max_value = flat_arr.max()\n",
    "min_value = flat_arr.min()\n",
    "print(\"Maximum value of the above flattened array:\", max_value)\n",
    "print(\"Minimum value of the above flattened array:\", min_value)"
   ]
  },
  {
   "cell_type": "code",
   "execution_count": null,
   "id": "e5b635fb",
   "metadata": {},
   "outputs": [],
   "source": []
  },
  {
   "cell_type": "code",
   "execution_count": null,
   "id": "bb4dfd51",
   "metadata": {},
   "outputs": [],
   "source": []
  }
 ],
 "metadata": {
  "kernelspec": {
   "display_name": "Python 3",
   "language": "python",
   "name": "python3"
  },
  "language_info": {
   "codemirror_mode": {
    "name": "ipython",
    "version": 3
   },
   "file_extension": ".py",
   "mimetype": "text/x-python",
   "name": "python",
   "nbconvert_exporter": "python",
   "pygments_lexer": "ipython3",
   "version": "3.13.7"
  }
 },
 "nbformat": 4,
 "nbformat_minor": 5
}
