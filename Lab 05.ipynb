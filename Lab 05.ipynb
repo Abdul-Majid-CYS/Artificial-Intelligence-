{
 "cells": [
  {
   "cell_type": "code",
   "execution_count": null,
   "id": "3d7851ce",
   "metadata": {},
   "outputs": [
    {
     "name": "stdout",
     "output_type": "stream",
     "text": [
      "Original flattened array:\n",
      "[[0 1]\n",
      " [2 3]]\n",
      "Maximum value of the above flattened array: 3\n",
      "Minimum value of the above flattened array: 0\n"
     ]
    }
   ],
   "source": [
    "import numpy as np\n",
    "\n",
    "arr = np.array([[0, 1], [2, 3]])\n",
    "print(\"Original flattened array:\")\n",
    "print(arr)\n",
    "flat_arr = arr.flatten()\n",
    "max_value = flat_arr.max()\n",
    "min_value = flat_arr.min()\n",
    "print(\"Maximum value of the above flattened array:\", max_value)\n",
    "print(\"Minimum value of the above flattened array:\", min_value)"
   ]
  },
  {
   "cell_type": "code",
   "execution_count": 1,
   "id": "e5b635fb",
   "metadata": {},
   "outputs": [
    {
     "name": "stdout",
     "output_type": "stream",
     "text": [
      "3x3 matrix with values ranging from 2 to 10:\n",
      "[[ 2  3  4]\n",
      " [ 5  6  7]\n",
      " [ 8  9 10]]\n"
     ]
    }
   ],
   "source": [
    "import numpy as np\n",
    "\n",
    "matrix = np.arange(2, 11).reshape(3, 3)\n",
    "\n",
    "print(\"3x3 matrix with values ranging from 2 to 10:\")\n",
    "print(matrix)"
   ]
  },
  {
   "cell_type": "code",
   "execution_count": 4,
   "id": "139ec2df",
   "metadata": {},
   "outputs": [
    {
     "name": "stdout",
     "output_type": "stream",
     "text": [
      "Original array: [1 2 3 4]\n",
      "Array converted to a float type: [1. 2. 3. 4.]\n"
     ]
    }
   ],
   "source": [
    "import numpy as np\n",
    "\n",
    "arr = np.array([1, 2, 3, 4])\n",
    "print(\"Original array:\", arr)\n",
    "\n",
    "float_arr = arr.astype(float)\n",
    "print(\"Array converted to a float type:\", float_arr)"
   ]
  },
  {
   "cell_type": "code",
   "execution_count": null,
   "id": "bb4dfd51",
   "metadata": {},
   "outputs": [
    {
     "name": "stdout",
     "output_type": "stream",
     "text": [
      "Matrix A:\n",
      "[[5 5]\n",
      " [1 2]]\n",
      "\n",
      "Matrix B:\n",
      "[[0 1]\n",
      " [1 0]]\n",
      "\n",
      "Result of A * B:\n",
      "[[5 5]\n",
      " [2 1]]\n",
      "\n",
      "Transpose of the resultant matrix:\n",
      "[[5 2]\n",
      " [5 1]]\n"
     ]
    }
   ],
   "source": [
    "import numpy as np\n",
    "A = np.array([[5, 5],\n",
    "              [1, 2]])\n",
    "\n",
    "B = np.array([[0, 1],\n",
    "              [1, 0]])\n",
    "print(\"Matrix A:\")\n",
    "print(A)\n",
    "print(\"\\nMatrix B:\")\n",
    "print(B)\n",
    "result = np.dot(A, B)\n",
    "print(\"\\nResult of A * B:\")\n",
    "print(result)\n",
    "transpose_result = result.T\n",
    "print(\"\\nTranspose of the resultant matrix:\")\n",
    "print(transpose_result)"
   ]
  },
  {
   "cell_type": "code",
   "execution_count": null,
   "id": "7ad644b7",
   "metadata": {},
   "outputs": [
    {
     "name": "stdout",
     "output_type": "stream",
     "text": [
      "Original Matrix A:\n",
      "[[ 6  1  1  3]\n",
      " [ 4 -2  5  1]\n",
      " [ 2  8  7  6]\n",
      " [ 3  1  9  7]]\n",
      "\n",
      "Inverse of Matrix A:\n",
      "[[ 0.13368984  0.10695187  0.02139037 -0.09090909]\n",
      " [-0.00229183  0.02673797  0.14820474 -0.12987013]\n",
      " [-0.12987013  0.18181818  0.06493506 -0.02597403]\n",
      " [ 0.11000764 -0.28342246 -0.11382735  0.23376623]]\n"
     ]
    }
   ],
   "source": [
    "import numpy as np\n",
    "\n",
    "A = np.array([[6, 1, 1, 3],\n",
    "              [4, -2, 5, 1],\n",
    "              [2, 8, 7, 6],\n",
    "              [3, 1, 9, 7]])\n",
    "\n",
    "print(\"Original Matrix A:\")\n",
    "print(A)\n",
    "\n",
    "A_inverse = np.linalg.inv(A)\n",
    "\n",
    "print(\"\\nInverse of Matrix A:\")\n",
    "print(A_inverse)\n"
   ]
  }
 ],
 "metadata": {
  "kernelspec": {
   "display_name": "Python 3",
   "language": "python",
   "name": "python3"
  },
  "language_info": {
   "codemirror_mode": {
    "name": "ipython",
    "version": 3
   },
   "file_extension": ".py",
   "mimetype": "text/x-python",
   "name": "python",
   "nbconvert_exporter": "python",
   "pygments_lexer": "ipython3",
   "version": "3.13.7"
  }
 },
 "nbformat": 4,
 "nbformat_minor": 5
}
