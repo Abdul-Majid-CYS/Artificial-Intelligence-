{
 "cells": [
  {
   "cell_type": "code",
   "execution_count": 5,
   "id": "066be4ff",
   "metadata": {},
   "outputs": [
    {
     "name": "stdout",
     "output_type": "stream",
     "text": [
      "Name: Ali\n",
      "Age: 25\n",
      "Designation: Manager\n",
      "Salary: 50000\n"
     ]
    }
   ],
   "source": [
    "class Person:\n",
    "    def get_person(name, age):\n",
    "        return name, age\n",
    "class Job:\n",
    "    def get_job(designation, salary):\n",
    "        return designation, salary\n",
    "class Employee:\n",
    "    def show_details(name, age, designation, salary):\n",
    "        print(\"Name:\", name)\n",
    "        print(\"Age:\", age)\n",
    "        print(\"Designation:\", designation)\n",
    "        print(\"Salary:\", salary)\n",
    "name, age = Person.get_person(\"Ali\", 25)\n",
    "designation, salary = Job.get_job(\"Manager\", 50000)\n",
    "Employee.show_details(name, age, designation, salary)"
   ]
  },
  {
   "cell_type": "code",
   "execution_count": 2,
   "id": "a40b3b13",
   "metadata": {},
   "outputs": [
    {
     "name": "stdout",
     "output_type": "stream",
     "text": [
      "Area: 9847.04\n",
      "Perimeter: 351.68\n"
     ]
    }
   ],
   "source": [
    "class Circle:\n",
    "    def area(r):\n",
    "        return 3.14 * r * r\n",
    "\n",
    "    def perimeter(r):\n",
    "        return 2 * 3.14 * r\n",
    "\n",
    "r = float(input(\"Enter radius: \"))\n",
    "print(\"Area:\", Circle.area(r))\n",
    "print(\"Perimeter:\", Circle.perimeter(r))"
   ]
  },
  {
   "cell_type": "code",
   "execution_count": 6,
   "id": "65a5055b",
   "metadata": {},
   "outputs": [
    {
     "name": "stdout",
     "output_type": "stream",
     "text": [
      "Result: 49.0\n"
     ]
    }
   ],
   "source": [
    "class Power:\n",
    "    def calculate(x, n):\n",
    "        result = 1\n",
    "        if n > 0:\n",
    "            for i in range(n):\n",
    "                result *= x\n",
    "        elif n < 0:\n",
    "            for i in range(-n):\n",
    "                result *= x\n",
    "            result = 1 / result\n",
    "        else:\n",
    "            result = 1\n",
    "        return result\n",
    "x = float(input(\"Enter base (x): \"))\n",
    "n = int(input(\"Enter exponent (n): \"))\n",
    "print(\"Result:\", Power.calculate(x, n))"
   ]
  },
  {
   "cell_type": "code",
   "execution_count": 7,
   "id": "8c9c0328",
   "metadata": {},
   "outputs": [
    {
     "name": "stdout",
     "output_type": "stream",
     "text": [
      "Item: My DVD\n",
      "Description: Horror movie\n",
      "Price: 2000\n",
      "My DVD added to shopping basket.\n",
      "My DVD removed from shopping basket.\n",
      "Playing music by Atif Aslam\n",
      "Downloading song of duration 4 minutes\n",
      "Viewing trailer with actors: Bilal\n",
      "Previewing book by William - Thriller\n"
     ]
    }
   ],
   "source": [
    "class Item:\n",
    "    def set_item(name, description, price):\n",
    "        Item.name = name\n",
    "        Item.description = description\n",
    "        Item.price = price\n",
    "    def viewFullDescription():\n",
    "        print(\"Item:\", Item.name)\n",
    "        print(\"Description:\", Item.description)\n",
    "        print(\"Price:\", Item.price)\n",
    "    def addToShoppingBasket():\n",
    "        print(Item.name, \"added to shopping basket.\")\n",
    "    def removeFromShoppingBasket():\n",
    "        print(Item.name, \"removed from shopping basket.\")\n",
    "class MP3(Item):\n",
    "    def set_mp3(artist, duration):\n",
    "        MP3.artist = artist\n",
    "        MP3.duration = duration\n",
    "    def play():\n",
    "        print(\"Playing music by\", MP3.artist)\n",
    "    def download():\n",
    "        print(\"Downloading song of duration\", MP3.duration, \"minutes\")\n",
    "class DVD(Item):\n",
    "    def set_dvd(certificate, duration, actors):\n",
    "        DVD.certificate = certificate\n",
    "        DVD.duration = duration\n",
    "        DVD.actors = actors\n",
    "    def viewTrailer():\n",
    "        print(\"Viewing trailer with actors:\", DVD.actors)\n",
    "class Book(Item):\n",
    "    def set_book(author, numberOfPages, genre):\n",
    "        Book.author = author\n",
    "        Book.numberOfPages = numberOfPages\n",
    "        Book.genre = genre\n",
    "    def previewContent():\n",
    "        print(\"Previewing book by\", Book.author, \"-\", Book.genre)\n",
    "\n",
    "Item.set_item(\"My DVD\", \"Horror movie\", 2000)\n",
    "Item.viewFullDescription()\n",
    "Item.addToShoppingBasket()\n",
    "Item.removeFromShoppingBasket()\n",
    "\n",
    "MP3.set_mp3(\"Atif Aslam\", 4)\n",
    "MP3.play()\n",
    "MP3.download()\n",
    "\n",
    "DVD.set_dvd(\"PG-13\", 148, \"Bilal\")\n",
    "DVD.viewTrailer()\n",
    "\n",
    "Book.set_book(\"William\", 689, \"Thriller\")\n",
    "Book.previewContent()\n"
   ]
  },
  {
   "cell_type": "code",
   "execution_count": null,
   "id": "a54cf7ac",
   "metadata": {},
   "outputs": [],
   "source": []
  },
  {
   "cell_type": "code",
   "execution_count": null,
   "metadata": {},
   "outputs": [],
   "source": []
  },
  {
   "cell_type": "code",
   "execution_count": null,
   "id": "c470dc64",
   "metadata": {},
   "outputs": [],
   "source": []
  }
 ],
 "metadata": {
  "kernelspec": {
   "display_name": "Python 3",
   "language": "python",
   "name": "python3"
  },
  "language_info": {
   "codemirror_mode": {
    "name": "ipython",
    "version": 3
   },
   "file_extension": ".py",
   "mimetype": "text/x-python",
   "name": "python",
   "nbconvert_exporter": "python",
   "pygments_lexer": "ipython3",
   "version": "3.11.4"
  }
 },
 "nbformat": 4,
 "nbformat_minor": 5
}
