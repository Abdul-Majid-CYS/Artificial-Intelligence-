{
 "cells": [
  {
   "cell_type": "code",
   "execution_count": 2,
   "id": "1c9ea1bc",
   "metadata": {},
   "outputs": [
    {
     "name": "stdout",
     "output_type": "stream",
     "text": [
      "Factorial of 8 is: 40320\n"
     ]
    }
   ],
   "source": [
    "def factorial(n):\n",
    "    fact = 1\n",
    "    for i in range(1, n + 1):\n",
    "        fact = fact * i\n",
    "    return fact\n",
    "\n",
    "num = int(input(\"Enter a number: \"))\n",
    "print(\"Factorial of\", num, \"is:\", factorial(num))\n"
   ]
  },
  {
   "cell_type": "code",
   "execution_count": 3,
   "id": "81246c16",
   "metadata": {},
   "outputs": [
    {
     "name": "stdout",
     "output_type": "stream",
     "text": [
      "Unique List: [1, 2, 3, 4, 5, 7]\n"
     ]
    }
   ],
   "source": [
    "def unique_list(lst):\n",
    "    return list(set(lst))\n",
    "\n",
    "sample_list = [1, 2, 3, 3, 4, 4, 5, 3, 7, 5]\n",
    "print(\"Unique List:\", unique_list(sample_list))\n"
   ]
  },
  {
   "cell_type": "code",
   "execution_count": null,
   "metadata": {},
   "outputs": [
    {
     "name": "stdout",
     "output_type": "stream",
     "text": [
      "2\n",
      "4\n",
      "6\n",
      "8\n",
      "10\n",
      "12\n",
      "Sum = 42\n",
      "Product = 46080\n"
     ]
    }
   ],
   "source": [
    "def even_numbers(n):\n",
    "    for i in range(1, n + 1):\n",
    "        print(i * 2)\n",
    "    return [i * 2 for i in range(1, n + 1)]\n",
    "\n",
    "n = int(input(\"Enter a number: \"))\n",
    "nums = even_numbers(n)\n",
    "\n",
    "print(\"Sum =\", sum(nums))\n",
    "p = 1\n",
    "for i in nums:\n",
    "    p *= i\n",
    "print(\"Product =\", p)"
   ]
  },
  {
   "cell_type": "code",
   "execution_count": 9,
   "metadata": {},
   "outputs": [
    {
     "name": "stdout",
     "output_type": "stream",
     "text": [
      "Strings match!\n"
     ]
    }
   ],
   "source": [
    "def match_strings(str1, str2):\n",
    "    if str1 == str2:\n",
    "        print(\"Strings match!\")\n",
    "    else:\n",
    "        print(\"Strings do not match.\")\n",
    "\n",
    "s1 = input(\"Enter first string: \")\n",
    "s2 = input(\"Enter second string: \")\n",
    "\n",
    "match_strings(s1, s2)\n"
   ]
  },
  {
   "cell_type": "code",
   "execution_count": 3,
   "id": "59292961",
   "metadata": {},
   "outputs": [
    {
     "name": "stdout",
     "output_type": "stream",
     "text": [
      "Login Successful!\n"
     ]
    }
   ],
   "source": [
    "\n",
    "def login(username, password):\n",
    "    if username == \"admin\" and password == \"1234\":\n",
    "        print(\"Login Successful!\")\n",
    "    else:\n",
    "        print(\"Invalid Username or Password!\")\n",
    "\n",
    "user = input(\"Enter username: \")\n",
    "pwd = input(\"Enter password: \")\n",
    "\n",
    "login(user, pwd)"
   ]
  }
 ],
 "metadata": {
  "kernelspec": {
   "display_name": "Python 3",
   "language": "python",
   "name": "python3"
  },
  "language_info": {
   "codemirror_mode": {
    "name": "ipython",
    "version": 3
   },
   "file_extension": ".py",
   "mimetype": "text/x-python",
   "name": "python",
   "nbconvert_exporter": "python",
   "pygments_lexer": "ipython3",
   "version": "3.11.4"
  }
 },
 "nbformat": 4,
 "nbformat_minor": 5
}
